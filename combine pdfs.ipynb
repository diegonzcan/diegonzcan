{
 "cells": [
  {
   "cell_type": "code",
   "execution_count": 1,
   "id": "70e2e3ac-8a90-4435-b167-162af7eff07a",
   "metadata": {},
   "outputs": [],
   "source": [
    "### C:\\Users\\diego\\Documents\\RELD_CSV\n",
    "\n",
    "import os\n",
    "import glob\n",
    "import pandas as pd\n",
    "os.chdir(r\"C:\\Users\\diego\\Documents\\RELD_CSV\\Netradyne\")"
   ]
  },
  {
   "cell_type": "code",
   "execution_count": 2,
   "id": "da7275eb-e241-4b07-80b1-fa5487293361",
   "metadata": {},
   "outputs": [],
   "source": [
    "extension = 'csv'\n",
    "all_filenames = [x for x in glob.glob('*.{}'.format(extension))]"
   ]
  },
  {
   "cell_type": "code",
   "execution_count": 3,
   "id": "09353b58-d41c-44de-adce-3f8ce306d567",
   "metadata": {},
   "outputs": [
    {
     "data": {
      "text/plain": [
       "['Drivers-Report(Jun-12-2022) RELD.csv',\n",
       " 'Drivers-Report(Jun-13-2022) RELD.csv',\n",
       " 'Drivers-Report(Jun-14-2022) RELD.csv',\n",
       " 'Drivers-Report(Jun-15-2022) RELD.csv',\n",
       " 'Drivers-Report(Jun-16-2022) RELD.csv',\n",
       " 'Drivers-Report(Jun-17-2022) RELD.csv',\n",
       " 'Drivers-Report(Jun-18-2022) RELD.csv']"
      ]
     },
     "execution_count": 3,
     "metadata": {},
     "output_type": "execute_result"
    }
   ],
   "source": [
    "all_filenames"
   ]
  },
  {
   "cell_type": "code",
   "execution_count": 13,
   "id": "790997b0-ab45-4b41-867a-a069f597c074",
   "metadata": {},
   "outputs": [],
   "source": [
    "#combined all files in the list\n",
    "\n",
    "combined_csv = pd.concat([pd.read_csv(x) for x in all_filenames])\n",
    "combined_csv.rename(columns={'Unnamed: 1':'Date'}, inplace=True)\n",
    "\n",
    "#export to csv\n",
    "\n",
    "combined_csv.to_csv( \"combined_csv.csv\", index=False, encoding='utf-8-sig')"
   ]
  },
  {
   "cell_type": "code",
   "execution_count": 15,
   "id": "131a7f2b-d5f5-4b91-a5ab-d3ba6dd7c2d1",
   "metadata": {},
   "outputs": [
    {
     "data": {
      "text/html": [
       "<div>\n",
       "<style scoped>\n",
       "    .dataframe tbody tr th:only-of-type {\n",
       "        vertical-align: middle;\n",
       "    }\n",
       "\n",
       "    .dataframe tbody tr th {\n",
       "        vertical-align: top;\n",
       "    }\n",
       "\n",
       "    .dataframe thead th {\n",
       "        text-align: right;\n",
       "    }\n",
       "</style>\n",
       "<table border=\"1\" class=\"dataframe\">\n",
       "  <thead>\n",
       "    <tr style=\"text-align: right;\">\n",
       "      <th></th>\n",
       "      <th>Driver Name</th>\n",
       "      <th>Date</th>\n",
       "      <th>Sign Violations</th>\n",
       "      <th>Traffic Light Violation</th>\n",
       "      <th>Driver Distraction</th>\n",
       "      <th>Following Distance</th>\n",
       "      <th>Speeding Violations</th>\n",
       "      <th>Seatbelt Compliance</th>\n",
       "    </tr>\n",
       "  </thead>\n",
       "  <tbody>\n",
       "    <tr>\n",
       "      <th>0</th>\n",
       "      <td>Felix Hernandez</td>\n",
       "      <td>12-Jun</td>\n",
       "      <td>0</td>\n",
       "      <td>0</td>\n",
       "      <td>0</td>\n",
       "      <td>0</td>\n",
       "      <td>1</td>\n",
       "      <td>0</td>\n",
       "    </tr>\n",
       "    <tr>\n",
       "      <th>1</th>\n",
       "      <td>Jose Valdez</td>\n",
       "      <td>12-Jun</td>\n",
       "      <td>0</td>\n",
       "      <td>1</td>\n",
       "      <td>1</td>\n",
       "      <td>0</td>\n",
       "      <td>0</td>\n",
       "      <td>0</td>\n",
       "    </tr>\n",
       "    <tr>\n",
       "      <th>0</th>\n",
       "      <td>Alex Duran</td>\n",
       "      <td>13-Jun</td>\n",
       "      <td>0</td>\n",
       "      <td>0</td>\n",
       "      <td>0</td>\n",
       "      <td>0</td>\n",
       "      <td>1</td>\n",
       "      <td>0</td>\n",
       "    </tr>\n",
       "    <tr>\n",
       "      <th>1</th>\n",
       "      <td>David Castillo</td>\n",
       "      <td>13-Jun</td>\n",
       "      <td>0</td>\n",
       "      <td>0</td>\n",
       "      <td>0</td>\n",
       "      <td>0</td>\n",
       "      <td>1</td>\n",
       "      <td>0</td>\n",
       "    </tr>\n",
       "    <tr>\n",
       "      <th>2</th>\n",
       "      <td>Joshua Rodriguez</td>\n",
       "      <td>13-Jun</td>\n",
       "      <td>0</td>\n",
       "      <td>0</td>\n",
       "      <td>0</td>\n",
       "      <td>0</td>\n",
       "      <td>1</td>\n",
       "      <td>0</td>\n",
       "    </tr>\n",
       "  </tbody>\n",
       "</table>\n",
       "</div>"
      ],
      "text/plain": [
       "        Driver Name    Date  Sign Violations  Traffic Light Violation  \\\n",
       "0   Felix Hernandez  12-Jun                0                        0   \n",
       "1       Jose Valdez  12-Jun                0                        1   \n",
       "0        Alex Duran  13-Jun                0                        0   \n",
       "1    David Castillo  13-Jun                0                        0   \n",
       "2  Joshua Rodriguez  13-Jun                0                        0   \n",
       "\n",
       "   Driver Distraction  Following Distance  Speeding Violations  \\\n",
       "0                   0                   0                    1   \n",
       "1                   1                   0                    0   \n",
       "0                   0                   0                    1   \n",
       "1                   0                   0                    1   \n",
       "2                   0                   0                    1   \n",
       "\n",
       "   Seatbelt Compliance  \n",
       "0                    0  \n",
       "1                    0  \n",
       "0                    0  \n",
       "1                    0  \n",
       "2                    0  "
      ]
     },
     "execution_count": 15,
     "metadata": {},
     "output_type": "execute_result"
    }
   ],
   "source": [
    "combined_csv.head(5)"
   ]
  },
  {
   "cell_type": "code",
   "execution_count": null,
   "id": "f5ebcbfe-25d7-4d97-a3dc-8d0b83bab2b8",
   "metadata": {},
   "outputs": [],
   "source": []
  }
 ],
 "metadata": {
  "kernelspec": {
   "display_name": "Python 3 (ipykernel)",
   "language": "python",
   "name": "python3"
  },
  "language_info": {
   "codemirror_mode": {
    "name": "ipython",
    "version": 3
   },
   "file_extension": ".py",
   "mimetype": "text/x-python",
   "name": "python",
   "nbconvert_exporter": "python",
   "pygments_lexer": "ipython3",
   "version": "3.9.7"
  },
  "toc-autonumbering": true,
  "toc-showcode": true,
  "toc-showtags": false
 },
 "nbformat": 4,
 "nbformat_minor": 5
}

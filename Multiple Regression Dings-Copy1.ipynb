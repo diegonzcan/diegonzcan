{
 "cells": [
  {
   "cell_type": "code",
   "execution_count": 2,
   "id": "8a32dee7",
   "metadata": {},
   "outputs": [],
   "source": [
    "import pandas as pd"
   ]
  },
  {
   "cell_type": "code",
   "execution_count": 3,
   "id": "1de04d88",
   "metadata": {},
   "outputs": [],
   "source": [
    "df = pd.read_csv('mr_dings.csv')"
   ]
  },
  {
   "cell_type": "code",
   "execution_count": 4,
   "id": "925a7010",
   "metadata": {},
   "outputs": [
    {
     "data": {
      "text/html": [
       "<div>\n",
       "<style scoped>\n",
       "    .dataframe tbody tr th:only-of-type {\n",
       "        vertical-align: middle;\n",
       "    }\n",
       "\n",
       "    .dataframe tbody tr th {\n",
       "        vertical-align: top;\n",
       "    }\n",
       "\n",
       "    .dataframe thead th {\n",
       "        text-align: right;\n",
       "    }\n",
       "</style>\n",
       "<table border=\"1\" class=\"dataframe\">\n",
       "  <thead>\n",
       "    <tr style=\"text-align: right;\">\n",
       "      <th></th>\n",
       "      <th>driver_name</th>\n",
       "      <th>gender</th>\n",
       "      <th>age</th>\n",
       "      <th>tenure</th>\n",
       "      <th>dings</th>\n",
       "    </tr>\n",
       "  </thead>\n",
       "  <tbody>\n",
       "    <tr>\n",
       "      <th>0</th>\n",
       "      <td>Jeffrey Timmons</td>\n",
       "      <td>Male</td>\n",
       "      <td>41</td>\n",
       "      <td>2.7</td>\n",
       "      <td>2</td>\n",
       "    </tr>\n",
       "    <tr>\n",
       "      <th>1</th>\n",
       "      <td>Rene Natal</td>\n",
       "      <td>Male</td>\n",
       "      <td>39</td>\n",
       "      <td>2.6</td>\n",
       "      <td>19</td>\n",
       "    </tr>\n",
       "    <tr>\n",
       "      <th>2</th>\n",
       "      <td>Adonnis Alexander</td>\n",
       "      <td>Male</td>\n",
       "      <td>29</td>\n",
       "      <td>2.4</td>\n",
       "      <td>3</td>\n",
       "    </tr>\n",
       "    <tr>\n",
       "      <th>3</th>\n",
       "      <td>Ricardo Morado</td>\n",
       "      <td>Male</td>\n",
       "      <td>27</td>\n",
       "      <td>2.4</td>\n",
       "      <td>21</td>\n",
       "    </tr>\n",
       "    <tr>\n",
       "      <th>4</th>\n",
       "      <td>John Tate</td>\n",
       "      <td>Male</td>\n",
       "      <td>28</td>\n",
       "      <td>2.1</td>\n",
       "      <td>43</td>\n",
       "    </tr>\n",
       "  </tbody>\n",
       "</table>\n",
       "</div>"
      ],
      "text/plain": [
       "         driver_name gender  age  tenure  dings\n",
       "0    Jeffrey Timmons   Male   41     2.7      2\n",
       "1         Rene Natal   Male   39     2.6     19\n",
       "2  Adonnis Alexander   Male   29     2.4      3\n",
       "3     Ricardo Morado   Male   27     2.4     21\n",
       "4          John Tate   Male   28     2.1     43"
      ]
     },
     "execution_count": 4,
     "metadata": {},
     "output_type": "execute_result"
    }
   ],
   "source": [
    "df.head()"
   ]
  },
  {
   "cell_type": "code",
   "execution_count": 5,
   "id": "4505d819",
   "metadata": {},
   "outputs": [],
   "source": [
    "df['ding_ratio'] = df['dings']/df['tenure']"
   ]
  },
  {
   "cell_type": "code",
   "execution_count": 6,
   "id": "6565f9e9",
   "metadata": {},
   "outputs": [
    {
     "data": {
      "text/html": [
       "<div>\n",
       "<style scoped>\n",
       "    .dataframe tbody tr th:only-of-type {\n",
       "        vertical-align: middle;\n",
       "    }\n",
       "\n",
       "    .dataframe tbody tr th {\n",
       "        vertical-align: top;\n",
       "    }\n",
       "\n",
       "    .dataframe thead th {\n",
       "        text-align: right;\n",
       "    }\n",
       "</style>\n",
       "<table border=\"1\" class=\"dataframe\">\n",
       "  <thead>\n",
       "    <tr style=\"text-align: right;\">\n",
       "      <th></th>\n",
       "      <th>driver_name</th>\n",
       "      <th>gender</th>\n",
       "      <th>age</th>\n",
       "      <th>tenure</th>\n",
       "      <th>dings</th>\n",
       "      <th>ding_ratio</th>\n",
       "    </tr>\n",
       "  </thead>\n",
       "  <tbody>\n",
       "    <tr>\n",
       "      <th>0</th>\n",
       "      <td>Jeffrey Timmons</td>\n",
       "      <td>Male</td>\n",
       "      <td>41</td>\n",
       "      <td>2.7</td>\n",
       "      <td>2</td>\n",
       "      <td>0.740741</td>\n",
       "    </tr>\n",
       "    <tr>\n",
       "      <th>1</th>\n",
       "      <td>Rene Natal</td>\n",
       "      <td>Male</td>\n",
       "      <td>39</td>\n",
       "      <td>2.6</td>\n",
       "      <td>19</td>\n",
       "      <td>7.307692</td>\n",
       "    </tr>\n",
       "    <tr>\n",
       "      <th>2</th>\n",
       "      <td>Adonnis Alexander</td>\n",
       "      <td>Male</td>\n",
       "      <td>29</td>\n",
       "      <td>2.4</td>\n",
       "      <td>3</td>\n",
       "      <td>1.250000</td>\n",
       "    </tr>\n",
       "    <tr>\n",
       "      <th>3</th>\n",
       "      <td>Ricardo Morado</td>\n",
       "      <td>Male</td>\n",
       "      <td>27</td>\n",
       "      <td>2.4</td>\n",
       "      <td>21</td>\n",
       "      <td>8.750000</td>\n",
       "    </tr>\n",
       "    <tr>\n",
       "      <th>4</th>\n",
       "      <td>John Tate</td>\n",
       "      <td>Male</td>\n",
       "      <td>28</td>\n",
       "      <td>2.1</td>\n",
       "      <td>43</td>\n",
       "      <td>20.476190</td>\n",
       "    </tr>\n",
       "  </tbody>\n",
       "</table>\n",
       "</div>"
      ],
      "text/plain": [
       "         driver_name gender  age  tenure  dings  ding_ratio\n",
       "0    Jeffrey Timmons   Male   41     2.7      2    0.740741\n",
       "1         Rene Natal   Male   39     2.6     19    7.307692\n",
       "2  Adonnis Alexander   Male   29     2.4      3    1.250000\n",
       "3     Ricardo Morado   Male   27     2.4     21    8.750000\n",
       "4          John Tate   Male   28     2.1     43   20.476190"
      ]
     },
     "execution_count": 6,
     "metadata": {},
     "output_type": "execute_result"
    }
   ],
   "source": [
    "df.head()"
   ]
  },
  {
   "cell_type": "code",
   "execution_count": 7,
   "id": "40f3bbc1",
   "metadata": {},
   "outputs": [
    {
     "name": "stdout",
     "output_type": "stream",
     "text": [
      "          driver_name gender  age  tenure  dings  ding_ratio    0    1\n",
      "0     Jeffrey Timmons   Male   41     2.7      2    0.740741  0.0  1.0\n",
      "1          Rene Natal   Male   39     2.6     19    7.307692  0.0  1.0\n",
      "2   Adonnis Alexander   Male   29     2.4      3    1.250000  0.0  1.0\n",
      "3      Ricardo Morado   Male   27     2.4     21    8.750000  0.0  1.0\n",
      "4           John Tate   Male   28     2.1     43   20.476190  0.0  1.0\n",
      "..                ...    ...  ...     ...    ...         ...  ...  ...\n",
      "78     Malik Fletcher   Male   22     0.1     10  100.000000  0.0  1.0\n",
      "79        Mark Chavez   Male   40     0.1     33  330.000000  0.0  1.0\n",
      "80     Bryan Gonzalez   Male   23     0.1      0    0.000000  0.0  1.0\n",
      "81    Andrew Sullivan   Male   30     0.1     37  370.000000  0.0  1.0\n",
      "82       Dazarie Hall   Male   24     0.1      9   90.000000  0.0  1.0\n",
      "\n",
      "[83 rows x 8 columns]\n"
     ]
    }
   ],
   "source": [
    "from sklearn.preprocessing import OneHotEncoder\n",
    "encoder = OneHotEncoder(handle_unknown='ignore')\n",
    "encoder_df = pd.DataFrame(encoder.fit_transform(df[['gender']]).toarray())\n",
    "final_df = df.join(encoder_df)\n",
    "print(final_df)"
   ]
  },
  {
   "cell_type": "code",
   "execution_count": 8,
   "id": "28350c39",
   "metadata": {},
   "outputs": [],
   "source": [
    "final_df.drop('gender', axis=1, inplace=True)"
   ]
  },
  {
   "cell_type": "code",
   "execution_count": 9,
   "id": "b0189adc",
   "metadata": {
    "scrolled": true
   },
   "outputs": [
    {
     "data": {
      "text/html": [
       "<div>\n",
       "<style scoped>\n",
       "    .dataframe tbody tr th:only-of-type {\n",
       "        vertical-align: middle;\n",
       "    }\n",
       "\n",
       "    .dataframe tbody tr th {\n",
       "        vertical-align: top;\n",
       "    }\n",
       "\n",
       "    .dataframe thead th {\n",
       "        text-align: right;\n",
       "    }\n",
       "</style>\n",
       "<table border=\"1\" class=\"dataframe\">\n",
       "  <thead>\n",
       "    <tr style=\"text-align: right;\">\n",
       "      <th></th>\n",
       "      <th>driver_name</th>\n",
       "      <th>age</th>\n",
       "      <th>tenure</th>\n",
       "      <th>dings</th>\n",
       "      <th>ding_ratio</th>\n",
       "      <th>0</th>\n",
       "      <th>1</th>\n",
       "    </tr>\n",
       "  </thead>\n",
       "  <tbody>\n",
       "    <tr>\n",
       "      <th>0</th>\n",
       "      <td>Jeffrey Timmons</td>\n",
       "      <td>41</td>\n",
       "      <td>2.7</td>\n",
       "      <td>2</td>\n",
       "      <td>0.740741</td>\n",
       "      <td>0.0</td>\n",
       "      <td>1.0</td>\n",
       "    </tr>\n",
       "    <tr>\n",
       "      <th>1</th>\n",
       "      <td>Rene Natal</td>\n",
       "      <td>39</td>\n",
       "      <td>2.6</td>\n",
       "      <td>19</td>\n",
       "      <td>7.307692</td>\n",
       "      <td>0.0</td>\n",
       "      <td>1.0</td>\n",
       "    </tr>\n",
       "    <tr>\n",
       "      <th>2</th>\n",
       "      <td>Adonnis Alexander</td>\n",
       "      <td>29</td>\n",
       "      <td>2.4</td>\n",
       "      <td>3</td>\n",
       "      <td>1.250000</td>\n",
       "      <td>0.0</td>\n",
       "      <td>1.0</td>\n",
       "    </tr>\n",
       "    <tr>\n",
       "      <th>3</th>\n",
       "      <td>Ricardo Morado</td>\n",
       "      <td>27</td>\n",
       "      <td>2.4</td>\n",
       "      <td>21</td>\n",
       "      <td>8.750000</td>\n",
       "      <td>0.0</td>\n",
       "      <td>1.0</td>\n",
       "    </tr>\n",
       "    <tr>\n",
       "      <th>4</th>\n",
       "      <td>John Tate</td>\n",
       "      <td>28</td>\n",
       "      <td>2.1</td>\n",
       "      <td>43</td>\n",
       "      <td>20.476190</td>\n",
       "      <td>0.0</td>\n",
       "      <td>1.0</td>\n",
       "    </tr>\n",
       "  </tbody>\n",
       "</table>\n",
       "</div>"
      ],
      "text/plain": [
       "         driver_name  age  tenure  dings  ding_ratio    0    1\n",
       "0    Jeffrey Timmons   41     2.7      2    0.740741  0.0  1.0\n",
       "1         Rene Natal   39     2.6     19    7.307692  0.0  1.0\n",
       "2  Adonnis Alexander   29     2.4      3    1.250000  0.0  1.0\n",
       "3     Ricardo Morado   27     2.4     21    8.750000  0.0  1.0\n",
       "4          John Tate   28     2.1     43   20.476190  0.0  1.0"
      ]
     },
     "execution_count": 9,
     "metadata": {},
     "output_type": "execute_result"
    }
   ],
   "source": [
    "final_df.head()"
   ]
  },
  {
   "cell_type": "code",
   "execution_count": 11,
   "id": "9b747700",
   "metadata": {},
   "outputs": [],
   "source": [
    "final_df.columns = ['name', 'age', 'tenure','dings', 'ding_ratio', 'female', 'male']"
   ]
  },
  {
   "cell_type": "code",
   "execution_count": 14,
   "id": "d70ae5b9",
   "metadata": {},
   "outputs": [
    {
     "data": {
      "text/plain": [
       "(13, 7)"
      ]
     },
     "execution_count": 14,
     "metadata": {},
     "output_type": "execute_result"
    }
   ],
   "source": [
    "final_df.loc[final_df['female'] == 1].shape"
   ]
  },
  {
   "cell_type": "code",
   "execution_count": 15,
   "id": "6578be46",
   "metadata": {},
   "outputs": [
    {
     "data": {
      "text/plain": [
       "(70, 7)"
      ]
     },
     "execution_count": 15,
     "metadata": {},
     "output_type": "execute_result"
    }
   ],
   "source": [
    "final_df.loc[final_df['female'] == 0].shape"
   ]
  },
  {
   "cell_type": "code",
   "execution_count": 16,
   "id": "4f44ced5",
   "metadata": {},
   "outputs": [],
   "source": [
    "X = final_df[['age', 'tenure','female','male']]\n",
    "y = final_df[['ding_ratio']]"
   ]
  },
  {
   "cell_type": "code",
   "execution_count": 17,
   "id": "2e2cf0fe",
   "metadata": {},
   "outputs": [],
   "source": [
    "from sklearn import linear_model"
   ]
  },
  {
   "cell_type": "code",
   "execution_count": 18,
   "id": "8f9f9233",
   "metadata": {},
   "outputs": [
    {
     "data": {
      "text/plain": [
       "LinearRegression()"
      ]
     },
     "execution_count": 18,
     "metadata": {},
     "output_type": "execute_result"
    }
   ],
   "source": [
    "regr = linear_model.LinearRegression()\n",
    "regr.fit(X,y)"
   ]
  },
  {
   "cell_type": "code",
   "execution_count": 22,
   "id": "141315fd",
   "metadata": {},
   "outputs": [
    {
     "name": "stdout",
     "output_type": "stream",
     "text": [
      "el ding ratio predecido es : [[80.05367745]]\n"
     ]
    }
   ],
   "source": [
    "predicted_dings = regr.predict([[28,.3,1,0]])\n",
    "print(f'el ding ratio predecido es : {predicted_dings}')"
   ]
  },
  {
   "cell_type": "code",
   "execution_count": 27,
   "id": "e4b39e18",
   "metadata": {},
   "outputs": [
    {
     "data": {
      "text/plain": [
       "array([[ -0.24009212, -49.46699477,   6.01744445,  -6.01744445]])"
      ]
     },
     "execution_count": 27,
     "metadata": {},
     "output_type": "execute_result"
    }
   ],
   "source": [
    "### coeficiente\n",
    "regr.coef_"
   ]
  },
  {
   "cell_type": "code",
   "execution_count": 38,
   "id": "eb3672ab",
   "metadata": {},
   "outputs": [
    {
     "name": "stdout",
     "output_type": "stream",
     "text": [
      "Ingresa la edad:33\n",
      "Ingresa el tenure:.1\n",
      "Ingresa 1 si es female 0 si es male:0\n",
      "Ingresa 1 si es male, 0 si es female1\n"
     ]
    }
   ],
   "source": [
    "edad = int(input('Ingresa la edad:'))\n",
    "tenure = float(input('Ingresa el tenure:'))\n",
    "female = int(input('Ingresa 1 si es female o si es male:'))\n",
    "male = int(input('Ingresa 1 si es male, o si es female'))"
   ]
  },
  {
   "cell_type": "code",
   "execution_count": 39,
   "id": "258e8997",
   "metadata": {},
   "outputs": [],
   "source": [
    "prediccion = -0.24009212*edad -49.46699477*tenure + 6.01744445*female -6.01744445*male"
   ]
  },
  {
   "cell_type": "code",
   "execution_count": 40,
   "id": "35d1217f",
   "metadata": {},
   "outputs": [
    {
     "name": "stdout",
     "output_type": "stream",
     "text": [
      "el ding ratio predecido es: -18.887183887\n"
     ]
    }
   ],
   "source": [
    "print(f'el ding ratio predecido es: {prediccion}')"
   ]
  }
 ],
 "metadata": {
  "kernelspec": {
   "display_name": "Python 3 (ipykernel)",
   "language": "python",
   "name": "python3"
  },
  "language_info": {
   "codemirror_mode": {
    "name": "ipython",
    "version": 3
   },
   "file_extension": ".py",
   "mimetype": "text/x-python",
   "name": "python",
   "nbconvert_exporter": "python",
   "pygments_lexer": "ipython3",
   "version": "3.9.7"
  }
 },
 "nbformat": 4,
 "nbformat_minor": 5
}

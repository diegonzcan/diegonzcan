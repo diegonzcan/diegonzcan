{
 "cells": [
  {
   "cell_type": "code",
   "execution_count": 4,
   "id": "45b7904b",
   "metadata": {},
   "outputs": [],
   "source": [
    "### Se realizara un analisis de la economia Mexicana en comparasion con el resto de norteamerica para comparar\n",
    "### el poder adquisitivo\n",
    "\n",
    "import numpy as np ## para algebra lineal\n",
    "import pandas as pd ## panel data"
   ]
  },
  {
   "cell_type": "code",
   "execution_count": 10,
   "id": "52ea12da",
   "metadata": {},
   "outputs": [],
   "source": [
    "import matplotlib.pyplot as plt \n",
    "import seaborn as sns ### visualizaciones"
   ]
  },
  {
   "cell_type": "code",
   "execution_count": 3,
   "id": "253bc384",
   "metadata": {},
   "outputs": [],
   "source": [
    "### importamos datos de la oecd sobre gasto neto por vivienda (millones de usd)\n",
    "df = pd.read_csv(r'C:\\Users\\diego\\Desktop\\business_intelligence\\household_spending.csv')"
   ]
  },
  {
   "cell_type": "code",
   "execution_count": 4,
   "id": "695468f5",
   "metadata": {},
   "outputs": [],
   "source": [
    "df.columns = df.columns.str.lower() ### limpiamos columnas"
   ]
  },
  {
   "cell_type": "code",
   "execution_count": 5,
   "id": "9973a396",
   "metadata": {},
   "outputs": [
    {
     "data": {
      "text/plain": [
       "Index(['location', 'indicator', 'subject', 'measure', 'frequency', 'time',\n",
       "       'value', 'flag codes'],\n",
       "      dtype='object')"
      ]
     },
     "execution_count": 5,
     "metadata": {},
     "output_type": "execute_result"
    }
   ],
   "source": [
    "df.columns"
   ]
  },
  {
   "cell_type": "code",
   "execution_count": 6,
   "id": "36884fcf",
   "metadata": {},
   "outputs": [],
   "source": [
    "df.drop('flag codes', axis=1, inplace=True) ##quitamos columna inncesaria"
   ]
  },
  {
   "cell_type": "code",
   "execution_count": 7,
   "id": "16bd88c8",
   "metadata": {},
   "outputs": [
    {
     "data": {
      "text/plain": [
       "array(['AUS', 'AUS', 'AUS', 'AUS', 'AUT', 'AUT', 'AUT', 'AUT', 'AUT',\n",
       "       'BEL', 'BEL', 'BEL', 'BEL', 'BEL', 'CAN', 'CAN', 'CAN', 'CAN',\n",
       "       'CAN', 'CZE', 'CZE', 'CZE', 'CZE', 'CZE', 'DNK', 'DNK', 'DNK',\n",
       "       'DNK', 'DNK', 'FIN', 'FIN', 'FIN', 'FIN', 'FIN', 'FRA', 'FRA',\n",
       "       'FRA', 'FRA', 'FRA', 'DEU', 'DEU', 'DEU', 'DEU', 'DEU', 'GRC',\n",
       "       'GRC', 'GRC', 'GRC', 'GRC', 'HUN', 'HUN', 'HUN', 'HUN', 'HUN',\n",
       "       'ISL', 'ISL', 'ISL', 'ISL', 'ISL', 'IRL', 'IRL', 'IRL', 'IRL',\n",
       "       'IRL', 'ITA', 'ITA', 'ITA', 'ITA', 'ITA', 'JPN', 'JPN', 'JPN',\n",
       "       'JPN', 'KOR', 'KOR', 'KOR', 'KOR', 'LUX', 'LUX', 'LUX', 'LUX',\n",
       "       'LUX', 'MEX', 'MEX', 'MEX', 'MEX', 'NLD', 'NLD', 'NLD', 'NLD',\n",
       "       'NLD', 'NZL', 'NZL', 'NZL', 'NZL', 'NOR', 'NOR', 'NOR', 'NOR',\n",
       "       'NOR', 'POL', 'POL', 'POL', 'POL', 'POL', 'PRT', 'PRT', 'PRT',\n",
       "       'PRT', 'PRT', 'SVK', 'SVK', 'SVK', 'SVK', 'SVK', 'ESP', 'ESP',\n",
       "       'ESP', 'ESP', 'ESP', 'SWE', 'SWE', 'SWE', 'SWE', 'SWE', 'CHE',\n",
       "       'CHE', 'CHE', 'CHE', 'CHE', 'TUR', 'TUR', 'TUR', 'TUR', 'TUR',\n",
       "       'GBR', 'GBR', 'GBR', 'GBR', 'GBR', 'USA', 'USA', 'USA', 'USA',\n",
       "       'CHL', 'CHL', 'CHL', 'CHL', 'CHL', 'CHN', 'CHN', 'CHN', 'CHN',\n",
       "       'COL', 'COL', 'COL', 'COL', 'EST', 'EST', 'EST', 'EST', 'EST',\n",
       "       'IND', 'IND', 'IND', 'IDN', 'IDN', 'IDN', 'IDN', 'IDN', 'ISR',\n",
       "       'ISR', 'ISR', 'ISR', 'ISR', 'RUS', 'RUS', 'RUS', 'RUS', 'SVN',\n",
       "       'SVN', 'SVN', 'SVN', 'SVN', 'ZAF', 'ZAF', 'ZAF', 'ZAF', 'LVA',\n",
       "       'LVA', 'LVA', 'LVA', 'LVA', 'BRA', 'BRA', 'BRA', 'LTU', 'LTU',\n",
       "       'LTU', 'LTU', 'LTU', 'CRI', 'CRI', 'CRI', 'CRI', 'CRI', 'EA', 'EA',\n",
       "       'EA', 'EA', 'EA', 'EU', 'EU', 'EU', 'EU', 'EU'], dtype=object)"
      ]
     },
     "execution_count": 7,
     "metadata": {},
     "output_type": "execute_result"
    }
   ],
   "source": [
    "df.location.values"
   ]
  },
  {
   "cell_type": "code",
   "execution_count": 12,
   "id": "73c67a7e",
   "metadata": {},
   "outputs": [],
   "source": [
    "keep_values = ['MEX', 'CAN', 'USA']\n",
    "\n",
    "df_na = df[df[\"location\"].isin(keep_values)] ### tomamos Mexico, USA y Canada"
   ]
  },
  {
   "cell_type": "code",
   "execution_count": 14,
   "id": "943599e5",
   "metadata": {},
   "outputs": [],
   "source": [
    "df_na.head(30)\n",
    "\n",
    "df_plot = df_na[['location', 'time', 'value']] ### tomamos columnas relevantes al plot"
   ]
  },
  {
   "cell_type": "code",
   "execution_count": 15,
   "id": "0c1c3231",
   "metadata": {},
   "outputs": [
    {
     "data": {
      "text/html": [
       "<div>\n",
       "<style scoped>\n",
       "    .dataframe tbody tr th:only-of-type {\n",
       "        vertical-align: middle;\n",
       "    }\n",
       "\n",
       "    .dataframe tbody tr th {\n",
       "        vertical-align: top;\n",
       "    }\n",
       "\n",
       "    .dataframe thead th {\n",
       "        text-align: right;\n",
       "    }\n",
       "</style>\n",
       "<table border=\"1\" class=\"dataframe\">\n",
       "  <thead>\n",
       "    <tr style=\"text-align: right;\">\n",
       "      <th></th>\n",
       "      <th>location</th>\n",
       "      <th>time</th>\n",
       "      <th>value</th>\n",
       "    </tr>\n",
       "  </thead>\n",
       "  <tbody>\n",
       "    <tr>\n",
       "      <th>14</th>\n",
       "      <td>CAN</td>\n",
       "      <td>2017</td>\n",
       "      <td>9.557987e+05</td>\n",
       "    </tr>\n",
       "    <tr>\n",
       "      <th>15</th>\n",
       "      <td>CAN</td>\n",
       "      <td>2018</td>\n",
       "      <td>1.004436e+06</td>\n",
       "    </tr>\n",
       "    <tr>\n",
       "      <th>16</th>\n",
       "      <td>CAN</td>\n",
       "      <td>2019</td>\n",
       "      <td>1.002552e+06</td>\n",
       "    </tr>\n",
       "    <tr>\n",
       "      <th>17</th>\n",
       "      <td>CAN</td>\n",
       "      <td>2020</td>\n",
       "      <td>9.537159e+05</td>\n",
       "    </tr>\n",
       "    <tr>\n",
       "      <th>18</th>\n",
       "      <td>CAN</td>\n",
       "      <td>2021</td>\n",
       "      <td>1.026028e+06</td>\n",
       "    </tr>\n",
       "  </tbody>\n",
       "</table>\n",
       "</div>"
      ],
      "text/plain": [
       "   location  time         value\n",
       "14      CAN  2017  9.557987e+05\n",
       "15      CAN  2018  1.004436e+06\n",
       "16      CAN  2019  1.002552e+06\n",
       "17      CAN  2020  9.537159e+05\n",
       "18      CAN  2021  1.026028e+06"
      ]
     },
     "execution_count": 15,
     "metadata": {},
     "output_type": "execute_result"
    }
   ],
   "source": [
    "df_plot.head()"
   ]
  },
  {
   "cell_type": "code",
   "execution_count": 16,
   "id": "7a1099e0",
   "metadata": {},
   "outputs": [
    {
     "name": "stdout",
     "output_type": "stream",
     "text": [
      "time              2017          2018          2019          2020         2021\n",
      "location                                                                     \n",
      "CAN       9.557987e+05  1.004436e+06  1.002552e+06  9.537159e+05  1026027.635\n",
      "MEX       1.411418e+06  1.472096e+06  1.470264e+06  1.372222e+06          NaN\n",
      "USA       1.323911e+07  1.391353e+07  1.442868e+07  1.404756e+07          NaN\n"
     ]
    }
   ],
   "source": [
    "print(df_plot.pivot(index='location', columns ='time', values='value' )) ### preparamos datos para el plot"
   ]
  },
  {
   "cell_type": "code",
   "execution_count": 20,
   "id": "7c35e01a",
   "metadata": {
    "scrolled": false
   },
   "outputs": [
    {
     "data": {
      "text/plain": [
       "Text(0.5, 1.0, 'Gasto por vivienda en ciento de miles de millones de dolares (OECD)')"
      ]
     },
     "execution_count": 20,
     "metadata": {},
     "output_type": "execute_result"
    },
    {
     "data": {
      "image/png": "[encoded data removed]",
      "text/plain": [
       "<Figure size 1080x576 with 1 Axes>"
      ]
     },
     "metadata": {
      "needs_background": "light"
     },
     "output_type": "display_data"
    }
   ],
   "source": [
    "df_plot.pivot(index='location', columns = 'time', values='value').plot(kind='bar', figsize = (15,8))\n",
    "\n",
    "plt.xlabel('Pais')\n",
    "\n",
    "plt.ylabel ('USD (cientos de miles de millones)')\n",
    "\n",
    "plt.title('Gasto por vivienda en ciento de miles de millones de dolares (OECD)')"
   ]
  },
  {
   "cell_type": "code",
   "execution_count": 4,
   "id": "5664bb2f",
   "metadata": {},
   "outputs": [],
   "source": [
    "import pandas as pd\n",
    "df_web = pd.read_csv(r'C:\\Users\\diego\\Desktop\\business_intelligence\\internet_access.csv')\n",
    "\n",
    "### importamos pandas y dataset de la OECD con datos sobre acceso al internet"
   ]
  },
  {
   "cell_type": "code",
   "execution_count": 5,
   "id": "2e1c5ce4",
   "metadata": {},
   "outputs": [],
   "source": [
    "import matplotlib.pyplot as plt \n",
    "import seaborn as sns"
   ]
  },
  {
   "cell_type": "code",
   "execution_count": 6,
   "id": "cd017164",
   "metadata": {},
   "outputs": [
    {
     "data": {
      "text/html": [
       "<div>\n",
       "<style scoped>\n",
       "    .dataframe tbody tr th:only-of-type {\n",
       "        vertical-align: middle;\n",
       "    }\n",
       "\n",
       "    .dataframe tbody tr th {\n",
       "        vertical-align: top;\n",
       "    }\n",
       "\n",
       "    .dataframe thead th {\n",
       "        text-align: right;\n",
       "    }\n",
       "</style>\n",
       "<table border=\"1\" class=\"dataframe\">\n",
       "  <thead>\n",
       "    <tr style=\"text-align: right;\">\n",
       "      <th></th>\n",
       "      <th>LOCATION</th>\n",
       "      <th>INDICATOR</th>\n",
       "      <th>SUBJECT</th>\n",
       "      <th>MEASURE</th>\n",
       "      <th>FREQUENCY</th>\n",
       "      <th>TIME</th>\n",
       "      <th>Value</th>\n",
       "      <th>Flag Codes</th>\n",
       "    </tr>\n",
       "  </thead>\n",
       "  <tbody>\n",
       "    <tr>\n",
       "      <th>0</th>\n",
       "      <td>BEL</td>\n",
       "      <td>INTERNET</td>\n",
       "      <td>TOT</td>\n",
       "      <td>PC_HH</td>\n",
       "      <td>A</td>\n",
       "      <td>2005</td>\n",
       "      <td>50.1575</td>\n",
       "      <td>NaN</td>\n",
       "    </tr>\n",
       "    <tr>\n",
       "      <th>1</th>\n",
       "      <td>BEL</td>\n",
       "      <td>INTERNET</td>\n",
       "      <td>TOT</td>\n",
       "      <td>PC_HH</td>\n",
       "      <td>A</td>\n",
       "      <td>2006</td>\n",
       "      <td>53.9597</td>\n",
       "      <td>NaN</td>\n",
       "    </tr>\n",
       "    <tr>\n",
       "      <th>2</th>\n",
       "      <td>BEL</td>\n",
       "      <td>INTERNET</td>\n",
       "      <td>TOT</td>\n",
       "      <td>PC_HH</td>\n",
       "      <td>A</td>\n",
       "      <td>2007</td>\n",
       "      <td>60.1640</td>\n",
       "      <td>NaN</td>\n",
       "    </tr>\n",
       "    <tr>\n",
       "      <th>3</th>\n",
       "      <td>BEL</td>\n",
       "      <td>INTERNET</td>\n",
       "      <td>TOT</td>\n",
       "      <td>PC_HH</td>\n",
       "      <td>A</td>\n",
       "      <td>2008</td>\n",
       "      <td>63.6276</td>\n",
       "      <td>NaN</td>\n",
       "    </tr>\n",
       "    <tr>\n",
       "      <th>4</th>\n",
       "      <td>BEL</td>\n",
       "      <td>INTERNET</td>\n",
       "      <td>TOT</td>\n",
       "      <td>PC_HH</td>\n",
       "      <td>A</td>\n",
       "      <td>2009</td>\n",
       "      <td>67.4352</td>\n",
       "      <td>NaN</td>\n",
       "    </tr>\n",
       "  </tbody>\n",
       "</table>\n",
       "</div>"
      ],
      "text/plain": [
       "  LOCATION INDICATOR SUBJECT MEASURE FREQUENCY  TIME    Value Flag Codes\n",
       "0      BEL  INTERNET     TOT   PC_HH         A  2005  50.1575        NaN\n",
       "1      BEL  INTERNET     TOT   PC_HH         A  2006  53.9597        NaN\n",
       "2      BEL  INTERNET     TOT   PC_HH         A  2007  60.1640        NaN\n",
       "3      BEL  INTERNET     TOT   PC_HH         A  2008  63.6276        NaN\n",
       "4      BEL  INTERNET     TOT   PC_HH         A  2009  67.4352        NaN"
      ]
     },
     "execution_count": 6,
     "metadata": {},
     "output_type": "execute_result"
    }
   ],
   "source": [
    "df_web.head()"
   ]
  },
  {
   "cell_type": "code",
   "execution_count": 9,
   "id": "870baa32",
   "metadata": {},
   "outputs": [
    {
     "data": {
      "text/plain": [
       "Index(['location', 'indicator', 'subject', 'measure', 'frequency', 'time',\n",
       "       'value', 'flag codes'],\n",
       "      dtype='object')"
      ]
     },
     "execution_count": 9,
     "metadata": {},
     "output_type": "execute_result"
    }
   ],
   "source": [
    "df_web.columns = df_web.columns.str.lower()\n",
    "\n",
    "df_web.columns"
   ]
  },
  {
   "cell_type": "code",
   "execution_count": 14,
   "id": "4c5d1b9f",
   "metadata": {},
   "outputs": [],
   "source": [
    "keep_columns = ['location','time', 'value']\n",
    "\n",
    "keep_values = ['MEX', 'USA', 'CAN']"
   ]
  },
  {
   "cell_type": "code",
   "execution_count": 11,
   "id": "e6bfdcfb",
   "metadata": {},
   "outputs": [],
   "source": [
    "df_web1 = df_web[df_web['location'].isin(keep_values)]"
   ]
  },
  {
   "cell_type": "code",
   "execution_count": 15,
   "id": "66cea5ee",
   "metadata": {},
   "outputs": [],
   "source": [
    "df_web2 = df_web1[(keep_columns)]"
   ]
  },
  {
   "cell_type": "code",
   "execution_count": 26,
   "id": "68d4c393",
   "metadata": {},
   "outputs": [],
   "source": [
    "df_web3 = df_web2.pivot(index='location', columns='time', values='value') ### notamos que faltan datos para USA"
   ]
  },
  {
   "cell_type": "code",
   "execution_count": 30,
   "id": "d7ef5232",
   "metadata": {},
   "outputs": [
    {
     "data": {
      "text/html": [
       "<div>\n",
       "<style scoped>\n",
       "    .dataframe tbody tr th:only-of-type {\n",
       "        vertical-align: middle;\n",
       "    }\n",
       "\n",
       "    .dataframe tbody tr th {\n",
       "        vertical-align: top;\n",
       "    }\n",
       "\n",
       "    .dataframe thead th {\n",
       "        text-align: right;\n",
       "    }\n",
       "</style>\n",
       "<table border=\"1\" class=\"dataframe\">\n",
       "  <thead>\n",
       "    <tr style=\"text-align: right;\">\n",
       "      <th>time</th>\n",
       "      <th>2005</th>\n",
       "      <th>2006</th>\n",
       "      <th>2007</th>\n",
       "      <th>2008</th>\n",
       "      <th>2009</th>\n",
       "      <th>2010</th>\n",
       "      <th>2011</th>\n",
       "      <th>2012</th>\n",
       "      <th>2013</th>\n",
       "      <th>2014</th>\n",
       "      <th>2015</th>\n",
       "      <th>2016</th>\n",
       "      <th>2017</th>\n",
       "      <th>2018</th>\n",
       "      <th>2019</th>\n",
       "      <th>2020</th>\n",
       "    </tr>\n",
       "    <tr>\n",
       "      <th>location</th>\n",
       "      <th></th>\n",
       "      <th></th>\n",
       "      <th></th>\n",
       "      <th></th>\n",
       "      <th></th>\n",
       "      <th></th>\n",
       "      <th></th>\n",
       "      <th></th>\n",
       "      <th></th>\n",
       "      <th></th>\n",
       "      <th></th>\n",
       "      <th></th>\n",
       "      <th></th>\n",
       "      <th></th>\n",
       "      <th></th>\n",
       "      <th></th>\n",
       "    </tr>\n",
       "  </thead>\n",
       "  <tbody>\n",
       "    <tr>\n",
       "      <th>CAN</th>\n",
       "      <td>64.3</td>\n",
       "      <td>68.10</td>\n",
       "      <td>72.70</td>\n",
       "      <td>74.6</td>\n",
       "      <td>77.80</td>\n",
       "      <td>78.30</td>\n",
       "      <td>80.40</td>\n",
       "      <td>81.40</td>\n",
       "      <td>83.700000</td>\n",
       "      <td>84.900000</td>\n",
       "      <td>86.900000</td>\n",
       "      <td>87.400000</td>\n",
       "      <td>89.000000</td>\n",
       "      <td>93.60000</td>\n",
       "      <td>91.000000</td>\n",
       "      <td>94.20000</td>\n",
       "    </tr>\n",
       "    <tr>\n",
       "      <th>MEX</th>\n",
       "      <td>9.0</td>\n",
       "      <td>10.13</td>\n",
       "      <td>12.00</td>\n",
       "      <td>13.5</td>\n",
       "      <td>18.36</td>\n",
       "      <td>22.19</td>\n",
       "      <td>23.27</td>\n",
       "      <td>25.97</td>\n",
       "      <td>30.743459</td>\n",
       "      <td>34.392739</td>\n",
       "      <td>39.177739</td>\n",
       "      <td>47.017121</td>\n",
       "      <td>50.922621</td>\n",
       "      <td>52.86463</td>\n",
       "      <td>56.356869</td>\n",
       "      <td>60.55397</td>\n",
       "    </tr>\n",
       "    <tr>\n",
       "      <th>USA</th>\n",
       "      <td>NaN</td>\n",
       "      <td>NaN</td>\n",
       "      <td>61.78</td>\n",
       "      <td>NaN</td>\n",
       "      <td>68.69</td>\n",
       "      <td>71.06</td>\n",
       "      <td>71.70</td>\n",
       "      <td>74.76</td>\n",
       "      <td>74.150000</td>\n",
       "      <td>NaN</td>\n",
       "      <td>73.370000</td>\n",
       "      <td>NaN</td>\n",
       "      <td>77.970000</td>\n",
       "      <td>NaN</td>\n",
       "      <td>79.880000</td>\n",
       "      <td>NaN</td>\n",
       "    </tr>\n",
       "  </tbody>\n",
       "</table>\n",
       "</div>"
      ],
      "text/plain": [
       "time      2005   2006   2007  2008   2009   2010   2011   2012       2013  \\\n",
       "location                                                                    \n",
       "CAN       64.3  68.10  72.70  74.6  77.80  78.30  80.40  81.40  83.700000   \n",
       "MEX        9.0  10.13  12.00  13.5  18.36  22.19  23.27  25.97  30.743459   \n",
       "USA        NaN    NaN  61.78   NaN  68.69  71.06  71.70  74.76  74.150000   \n",
       "\n",
       "time           2014       2015       2016       2017      2018       2019  \\\n",
       "location                                                                    \n",
       "CAN       84.900000  86.900000  87.400000  89.000000  93.60000  91.000000   \n",
       "MEX       34.392739  39.177739  47.017121  50.922621  52.86463  56.356869   \n",
       "USA             NaN  73.370000        NaN  77.970000       NaN  79.880000   \n",
       "\n",
       "time          2020  \n",
       "location            \n",
       "CAN       94.20000  \n",
       "MEX       60.55397  \n",
       "USA            NaN  "
      ]
     },
     "execution_count": 30,
     "metadata": {},
     "output_type": "execute_result"
    }
   ],
   "source": [
    "df_web3.head()"
   ]
  },
  {
   "cell_type": "code",
   "execution_count": 49,
   "id": "a9ee5090",
   "metadata": {},
   "outputs": [
    {
     "data": {
      "text/html": [
       "<div>\n",
       "<style scoped>\n",
       "    .dataframe tbody tr th:only-of-type {\n",
       "        vertical-align: middle;\n",
       "    }\n",
       "\n",
       "    .dataframe tbody tr th {\n",
       "        vertical-align: top;\n",
       "    }\n",
       "\n",
       "    .dataframe thead th {\n",
       "        text-align: right;\n",
       "    }\n",
       "</style>\n",
       "<table border=\"1\" class=\"dataframe\">\n",
       "  <thead>\n",
       "    <tr style=\"text-align: right;\">\n",
       "      <th>location</th>\n",
       "      <th>CAN</th>\n",
       "      <th>MEX</th>\n",
       "      <th>USA</th>\n",
       "    </tr>\n",
       "    <tr>\n",
       "      <th>time</th>\n",
       "      <th></th>\n",
       "      <th></th>\n",
       "      <th></th>\n",
       "    </tr>\n",
       "  </thead>\n",
       "  <tbody>\n",
       "    <tr>\n",
       "      <th>2016</th>\n",
       "      <td>87.4</td>\n",
       "      <td>47.017121</td>\n",
       "      <td>75.670</td>\n",
       "    </tr>\n",
       "    <tr>\n",
       "      <th>2017</th>\n",
       "      <td>89.0</td>\n",
       "      <td>50.922621</td>\n",
       "      <td>77.970</td>\n",
       "    </tr>\n",
       "    <tr>\n",
       "      <th>2018</th>\n",
       "      <td>93.6</td>\n",
       "      <td>52.864630</td>\n",
       "      <td>78.925</td>\n",
       "    </tr>\n",
       "    <tr>\n",
       "      <th>2019</th>\n",
       "      <td>91.0</td>\n",
       "      <td>56.356869</td>\n",
       "      <td>79.880</td>\n",
       "    </tr>\n",
       "    <tr>\n",
       "      <th>2020</th>\n",
       "      <td>94.2</td>\n",
       "      <td>60.553970</td>\n",
       "      <td>79.880</td>\n",
       "    </tr>\n",
       "  </tbody>\n",
       "</table>\n",
       "</div>"
      ],
      "text/plain": [
       "location   CAN        MEX     USA\n",
       "time                             \n",
       "2016      87.4  47.017121  75.670\n",
       "2017      89.0  50.922621  77.970\n",
       "2018      93.6  52.864630  78.925\n",
       "2019      91.0  56.356869  79.880\n",
       "2020      94.2  60.553970  79.880"
      ]
     },
     "execution_count": 49,
     "metadata": {},
     "output_type": "execute_result"
    }
   ],
   "source": [
    "df_pivot = df_web2.pivot(index='time', columns='location', values='value')\n",
    "\n",
    "df_pivot.interpolate(method='linear', axis=0, inplace=True) ### usamos interpolacion lineal para predecir valores faltantes\n",
    "\n",
    "df_pivot.tail()"
   ]
  },
  {
   "cell_type": "code",
   "execution_count": 54,
   "id": "a653262f",
   "metadata": {},
   "outputs": [
    {
     "data": {
      "text/plain": [
       "Text(0, 0.5, '% de poblacion')"
      ]
     },
     "execution_count": 54,
     "metadata": {},
     "output_type": "execute_result"
    },
    {
     "data": {
      "image/png": "[encoded data removed]",
      "text/plain": [
       "<Figure size 1080x576 with 1 Axes>"
      ]
     },
     "metadata": {
      "needs_background": "light"
     },
     "output_type": "display_data"
    }
   ],
   "source": [
    "df_pivot.plot(kind='line', figsize=(15,8), linestyle='dashed', marker='o')\n",
    "\n",
    "plt.title('% de poblacion con acceso a internet en Norte America')\n",
    "\n",
    "plt.xlabel('año')\n",
    "\n",
    "plt.ylabel('% de poblacion')"
   ]
  },
  {
   "cell_type": "code",
   "execution_count": 5,
   "id": "87381287",
   "metadata": {},
   "outputs": [],
   "source": [
    "df_pop = pd.read_csv(r'C:\\Users\\diego\\Desktop\\business_intelligence\\population_distribution.csv')"
   ]
  },
  {
   "cell_type": "code",
   "execution_count": 6,
   "id": "2407f4b6",
   "metadata": {},
   "outputs": [
    {
     "data": {
      "text/plain": [
       "Index(['LOCATION', 'INDICATOR', 'SUBJECT', 'MEASURE', 'FREQUENCY', 'TIME',\n",
       "       'Value', 'Flag Codes'],\n",
       "      dtype='object')"
      ]
     },
     "execution_count": 6,
     "metadata": {},
     "output_type": "execute_result"
    }
   ],
   "source": [
    "df_pop.columns"
   ]
  },
  {
   "cell_type": "code",
   "execution_count": 7,
   "id": "8480aa34",
   "metadata": {},
   "outputs": [
    {
     "data": {
      "text/plain": [
       "array(['INTMD', 'RURAL', 'URBAN'], dtype=object)"
      ]
     },
     "execution_count": 7,
     "metadata": {},
     "output_type": "execute_result"
    }
   ],
   "source": [
    "df_pop['SUBJECT'].unique()"
   ]
  },
  {
   "cell_type": "code",
   "execution_count": 8,
   "id": "1dba1a69",
   "metadata": {},
   "outputs": [
    {
     "data": {
      "text/html": [
       "<div>\n",
       "<style scoped>\n",
       "    .dataframe tbody tr th:only-of-type {\n",
       "        vertical-align: middle;\n",
       "    }\n",
       "\n",
       "    .dataframe tbody tr th {\n",
       "        vertical-align: top;\n",
       "    }\n",
       "\n",
       "    .dataframe thead th {\n",
       "        text-align: right;\n",
       "    }\n",
       "</style>\n",
       "<table border=\"1\" class=\"dataframe\">\n",
       "  <thead>\n",
       "    <tr style=\"text-align: right;\">\n",
       "      <th></th>\n",
       "      <th>SUBJECT</th>\n",
       "      <th>Value</th>\n",
       "    </tr>\n",
       "  </thead>\n",
       "  <tbody>\n",
       "    <tr>\n",
       "      <th>0</th>\n",
       "      <td>INTMD</td>\n",
       "      <td>48.3</td>\n",
       "    </tr>\n",
       "    <tr>\n",
       "      <th>1</th>\n",
       "      <td>INTMD</td>\n",
       "      <td>42.1</td>\n",
       "    </tr>\n",
       "    <tr>\n",
       "      <th>2</th>\n",
       "      <td>RURAL</td>\n",
       "      <td>36.1</td>\n",
       "    </tr>\n",
       "    <tr>\n",
       "      <th>3</th>\n",
       "      <td>INTMD</td>\n",
       "      <td>38.2</td>\n",
       "    </tr>\n",
       "    <tr>\n",
       "      <th>4</th>\n",
       "      <td>RURAL</td>\n",
       "      <td>12.1</td>\n",
       "    </tr>\n",
       "  </tbody>\n",
       "</table>\n",
       "</div>"
      ],
      "text/plain": [
       "  SUBJECT  Value\n",
       "0   INTMD   48.3\n",
       "1   INTMD   42.1\n",
       "2   RURAL   36.1\n",
       "3   INTMD   38.2\n",
       "4   RURAL   12.1"
      ]
     },
     "execution_count": 8,
     "metadata": {},
     "output_type": "execute_result"
    }
   ],
   "source": [
    "vio_plot = df_pop[['SUBJECT', 'Value']]\n",
    "\n",
    "vio_plot.head()"
   ]
  },
  {
   "cell_type": "code",
   "execution_count": 2,
   "id": "b257ed67",
   "metadata": {},
   "outputs": [],
   "source": [
    "import seaborn as sns"
   ]
  },
  {
   "cell_type": "code",
   "execution_count": 10,
   "id": "412cbcab",
   "metadata": {},
   "outputs": [
    {
     "name": "stdout",
     "output_type": "stream",
     "text": [
      "0      48.3\n",
      "1      42.1\n",
      "2      36.1\n",
      "3      38.2\n",
      "4      12.1\n",
      "       ... \n",
      "103    44.1\n",
      "104    59.9\n",
      "105    31.1\n",
      "106    41.8\n",
      "107    27.1\n",
      "Name: Value, Length: 108, dtype: float64\n"
     ]
    }
   ],
   "source": [
    "value = vio_plot.Value\n",
    "group = vio_plot.SUBJECT\n",
    "print(value)"
   ]
  },
  {
   "cell_type": "code",
   "execution_count": 11,
   "id": "c66bb1cc",
   "metadata": {},
   "outputs": [
    {
     "data": {
      "image/png": "[encoded data removed]",
      "text/plain": [
       "<Figure size 1080x576 with 1 Axes>"
      ]
     },
     "metadata": {
      "needs_background": "light"
     },
     "output_type": "display_data"
    }
   ],
   "source": [
    "import matplotlib.pyplot as plt\n",
    "plt.figure(figsize=(15,8))\n",
    "ax = sns.violinplot(x=group, y=value, data=vio_plot, figsize=(15,8))\n",
    "ax.set(ylim=(0, 100))\n",
    "plt.show()"
   ]
  },
  {
   "cell_type": "code",
   "execution_count": 15,
   "id": "0389e6c9",
   "metadata": {},
   "outputs": [
    {
     "data": {
      "text/html": [
       "<div>\n",
       "<style scoped>\n",
       "    .dataframe tbody tr th:only-of-type {\n",
       "        vertical-align: middle;\n",
       "    }\n",
       "\n",
       "    .dataframe tbody tr th {\n",
       "        vertical-align: top;\n",
       "    }\n",
       "\n",
       "    .dataframe thead th {\n",
       "        text-align: right;\n",
       "    }\n",
       "</style>\n",
       "<table border=\"1\" class=\"dataframe\">\n",
       "  <thead>\n",
       "    <tr style=\"text-align: right;\">\n",
       "      <th>SUBJECT</th>\n",
       "      <th>INTMD</th>\n",
       "      <th>RURAL</th>\n",
       "      <th>URBAN</th>\n",
       "    </tr>\n",
       "    <tr>\n",
       "      <th>LOCATION</th>\n",
       "      <th></th>\n",
       "      <th></th>\n",
       "      <th></th>\n",
       "    </tr>\n",
       "  </thead>\n",
       "  <tbody>\n",
       "    <tr>\n",
       "      <th>CAN</th>\n",
       "      <td>16.0</td>\n",
       "      <td>27.6</td>\n",
       "      <td>56.4</td>\n",
       "    </tr>\n",
       "    <tr>\n",
       "      <th>MEX</th>\n",
       "      <td>17.4</td>\n",
       "      <td>36.6</td>\n",
       "      <td>46.0</td>\n",
       "    </tr>\n",
       "    <tr>\n",
       "      <th>USA</th>\n",
       "      <td>20.2</td>\n",
       "      <td>37.7</td>\n",
       "      <td>42.1</td>\n",
       "    </tr>\n",
       "  </tbody>\n",
       "</table>\n",
       "</div>"
      ],
      "text/plain": [
       "SUBJECT   INTMD  RURAL  URBAN\n",
       "LOCATION                     \n",
       "CAN        16.0   27.6   56.4\n",
       "MEX        17.4   36.6   46.0\n",
       "USA        20.2   37.7   42.1"
      ]
     },
     "execution_count": 15,
     "metadata": {},
     "output_type": "execute_result"
    }
   ],
   "source": [
    "df_pop[df_pop['LOCATION'].isin(keep_values)].pivot(index='LOCATION', columns='SUBJECT', values='Value')"
   ]
  }
 ],
 "metadata": {
  "kernelspec": {
   "display_name": "Python 3 (ipykernel)",
   "language": "python",
   "name": "python3"
  },
  "language_info": {
   "codemirror_mode": {
    "name": "ipython",
    "version": 3
   },
   "file_extension": ".py",
   "mimetype": "text/x-python",
   "name": "python",
   "nbconvert_exporter": "python",
   "pygments_lexer": "ipython3",
   "version": "3.9.7"
  }
 },
 "nbformat": 4,
 "nbformat_minor": 5
}
